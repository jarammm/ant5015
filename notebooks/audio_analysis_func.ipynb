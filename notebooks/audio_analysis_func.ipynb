{
 "cells": [
  {
   "cell_type": "markdown",
   "id": "960739bb",
   "metadata": {},
   "source": [
    "# 0. 준비"
   ]
  },
  {
   "cell_type": "code",
   "execution_count": 1,
   "id": "2594037a",
   "metadata": {},
   "outputs": [],
   "source": [
    "from pathlib import Path"
   ]
  },
  {
   "cell_type": "code",
   "execution_count": null,
   "id": "04d7ae78",
   "metadata": {},
   "outputs": [],
   "source": [
    "# import essentia\n",
    "# import essentia.standard as es"
   ]
  },
  {
   "cell_type": "code",
   "execution_count": 2,
   "id": "5fce3509",
   "metadata": {},
   "outputs": [],
   "source": [
    "import librosa\n",
    "import librosa.display\n",
    "import numpy as np\n",
    "import matplotlib.pyplot as plt\n",
    "from sklearn.metrics.pairwise import cosine_similarity"
   ]
  },
  {
   "cell_type": "code",
   "execution_count": null,
   "id": "1929c099",
   "metadata": {},
   "outputs": [],
   "source": [
    "folder = Path('wav_folder')\n",
    "wav_paths = sorted(folder.glob('*.wav'))\n",
    "\n",
    "audio_path1, audio_path2, audio_path3 = wav_paths[:3]\n",
    "\n",
    "print(audio_path1)  # wav_folder/1.wav\n",
    "print(audio_path2)  # wav_folder/2.wav\n",
    "print(audio_path3)  # wav_folder/3.wav"
   ]
  },
  {
   "cell_type": "markdown",
   "id": "bffe48c7",
   "metadata": {},
   "source": [
    "# 1. 조성 분포\n",
    "\n",
    "> 분리된 콘다 환경에서 실행 가능"
   ]
  },
  {
   "cell_type": "code",
   "execution_count": null,
   "id": "b2862706",
   "metadata": {},
   "outputs": [],
   "source": [
    "# def extract_key_signature(audio_path):\n",
    "#     loader = es.MonoLoader(filename=str(audio_path))\n",
    "#     audio = loader()\n",
    "    \n",
    "#     key_extractor = es.KeyExtractor()\n",
    "#     key, scale, strength = key_extractor(audio)\n",
    "#     return key, scale, strength"
   ]
  },
  {
   "cell_type": "code",
   "execution_count": null,
   "id": "c7d746c4",
   "metadata": {},
   "outputs": [],
   "source": [
    "# key, scale, strength = extract_key_signature(audio_path1)"
   ]
  },
  {
   "cell_type": "markdown",
   "id": "180f85ab",
   "metadata": {},
   "source": [
    "# 2. 템포 변화"
   ]
  },
  {
   "cell_type": "markdown",
   "id": "f8ac5498",
   "metadata": {},
   "source": [
    "## 템포 분산"
   ]
  },
  {
   "cell_type": "code",
   "execution_count": null,
   "id": "5334e730",
   "metadata": {},
   "outputs": [],
   "source": [
    "def check_tempo_variance(audio_path):\n",
    "    y, sr = librosa.load(audio_path)\n",
    "    hop_length = 512\n",
    "\n",
    "    onset_strength_seq = librosa.onset.onset_strength(y=y, sr=sr, hop_length=hop_length) # 각 타임 프레임 시작점의 강도\n",
    "    tempogram = librosa.feature.tempogram(onset_envelope=onset_strength_seq, sr=sr, hop_length=hop_length) # (num_bins, num_frames)\n",
    "\n",
    "    tempos = librosa.tempo_frequencies(tempogram.shape[0], sr=sr, hop_length=hop_length) # tempo bin index → bpm\n",
    "    dominant_indices = np.argmax(tempogram[1:], axis=0) + 1\n",
    "    dominant_tempos = tempos[dominant_indices]\n",
    "\n",
    "    dominant_tempos = dominant_tempos[(~np.isnan(dominant_tempos)) & (~np.isinf(dominant_tempos))]\n",
    "    dominant_tempos = np.log2(dominant_tempos + 1e-6)\n",
    "\n",
    "    if len(dominant_tempos) == 0:\n",
    "        return 0.0\n",
    "\n",
    "    tempo_var = np.var(dominant_tempos)\n",
    "\n",
    "    return tempo_var"
   ]
  },
  {
   "cell_type": "markdown",
   "id": "cf3a292e",
   "metadata": {},
   "source": [
    "## 활성 템포 분석"
   ]
  },
  {
   "cell_type": "code",
   "execution_count": null,
   "id": "4cc3fc82",
   "metadata": {},
   "outputs": [],
   "source": [
    "def get_onset_tempogram_tempo(audio_path):\n",
    "  # Load audio\n",
    "  y, sr = librosa.load(audio_path, duration=30)\n",
    "  hop_length = 512\n",
    "  oenv = librosa.onset.onset_strength(y=y, sr=sr, hop_length=hop_length)\n",
    "  tempogram = librosa.feature.tempogram(onset_envelope=oenv, sr=sr, hop_length=hop_length)\n",
    "  return tempogram"
   ]
  },
  {
   "cell_type": "code",
   "execution_count": 7,
   "id": "7cbc11f6",
   "metadata": {},
   "outputs": [],
   "source": [
    "def get_dominant_tempo(tempogram, threshold=0.5):\n",
    "\n",
    "  active_bpm_per_frame = np.sum(tempogram >= threshold, axis=0)\n",
    "  active_bpm_variance = np.var(active_bpm_per_frame)\n",
    "\n",
    "  prev_indices = None\n",
    "  change_counts = 0\n",
    "  for t in range(tempogram.shape[1]):\n",
    "      indices = set(np.where(tempogram[:, t] >= threshold)[0])\n",
    "      if prev_indices is not None:\n",
    "          change = len(indices.symmetric_difference(prev_indices))\n",
    "          change_counts += change\n",
    "      prev_indices = indices\n",
    "  tempo_transition_complexity = change_counts / tempogram.shape[1]\n",
    "\n",
    "  return tempo_transition_complexity, active_bpm_variance"
   ]
  },
  {
   "cell_type": "code",
   "execution_count": null,
   "id": "419b1d59",
   "metadata": {},
   "outputs": [
    {
     "data": {
      "text/plain": [
       "(0.17414860681114552, np.float64(326.4930334566612))"
      ]
     },
     "execution_count": 8,
     "metadata": {},
     "output_type": "execute_result"
    }
   ],
   "source": [
    "tempogram = get_onset_tempogram_tempo(audio_path1)\n",
    "tempo_transition_complexity, active_bpm_variance = get_dominant_tempo(tempogram)\n",
    "tempo_transition_complexity, active_bpm_variance"
   ]
  },
  {
   "cell_type": "markdown",
   "id": "a86b89d4",
   "metadata": {},
   "source": [
    "# 3. 피치 범위"
   ]
  },
  {
   "cell_type": "code",
   "execution_count": null,
   "id": "f47c9ed9",
   "metadata": {},
   "outputs": [],
   "source": [
    "def get_pitch_range(audio_path):\n",
    "  y, sr = librosa.load(audio_path, duration=30)\n",
    "\n",
    "  f0, _, _ = librosa.pyin(\n",
    "      y,\n",
    "      fmin=librosa.note_to_hz('C2'),\n",
    "      fmax=librosa.note_to_hz('C7'),\n",
    "      sr=sr\n",
    "  )\n",
    "  \n",
    "  f0 = f0[~np.isnan(f0)]\n",
    "  q1 = np.percentile(f0, 25)\n",
    "  q3 = np.percentile(f0, 75)\n",
    "  iqr = q3 - q1\n",
    "  lower_bound = q1 - 1.5 * iqr\n",
    "  upper_bound = q3 + 1.5 * iqr\n",
    "  f0_filtered = f0[(f0 >= lower_bound) & (f0 <= upper_bound)]\n",
    "  \n",
    "  pitch_range = np.max(f0_filtered) - np.min(f0_filtered)\n",
    "\n",
    "  return np.max(f0_filtered), np.min(f0_filtered), pitch_range"
   ]
  },
  {
   "cell_type": "code",
   "execution_count": null,
   "id": "faa4c591",
   "metadata": {},
   "outputs": [
    {
     "data": {
      "text/plain": [
       "np.float64(121.74038408403857)"
      ]
     },
     "execution_count": 10,
     "metadata": {},
     "output_type": "execute_result"
    }
   ],
   "source": [
    "pitch_high, pitch_low, pitch_range = get_pitch_range(audio_path1)\n",
    "pitch_range"
   ]
  },
  {
   "cell_type": "markdown",
   "id": "6b6d95dd",
   "metadata": {},
   "source": [
    "# 4. 반복 구간 비율"
   ]
  },
  {
   "cell_type": "markdown",
   "id": "43a39fae",
   "metadata": {},
   "source": [
    "## 반복 면적, 반복 비율"
   ]
  },
  {
   "cell_type": "code",
   "execution_count": null,
   "id": "5a5d5b0f",
   "metadata": {},
   "outputs": [],
   "source": [
    "def check_repetition_ratio(audio_path, threshold=0.8, min_separation_sec=1.0, hop_length=512):\n",
    "    y, sr = librosa.load(audio_path)\n",
    "    chroma = librosa.feature.chroma_cqt(y=y, sr=sr, hop_length=hop_length)\n",
    "\n",
    "    similarity_matrix = cosine_similarity(chroma.T)\n",
    "    T = similarity_matrix.shape[0]\n",
    "    min_diag_offset = int(min_separation_sec * sr / hop_length)\n",
    "\n",
    "    time_idx = np.arange(T)\n",
    "    frame_diff = np.abs(time_idx[:, None] - time_idx[None, :])\n",
    "\n",
    "    is_valid_repeat = (similarity_matrix > threshold) & (frame_diff >= min_diag_offset)\n",
    "\n",
    "    total_possible = np.sum(frame_diff >= min_diag_offset)\n",
    "    repeated_area = np.sum(is_valid_repeat)\n",
    "    repetition_ratio_value = repeated_area / total_possible if total_possible > 0 else 0\n",
    "\n",
    "    return repeated_area, repetition_ratio_value"
   ]
  },
  {
   "cell_type": "markdown",
   "id": "2501b411",
   "metadata": {},
   "source": [
    "## 평균 self-similarity matrix"
   ]
  },
  {
   "cell_type": "code",
   "execution_count": null,
   "id": "a4d44ef8",
   "metadata": {},
   "outputs": [],
   "source": [
    "from skimage.transform import resize\n",
    "import os\n",
    "import numpy as np\n",
    "import librosa\n",
    "from sklearn.metrics.pairwise import cosine_similarity\n",
    "import matplotlib.pyplot as plt\n",
    "from tqdm.auto import tqdm\n",
    "\n",
    "def get_resized_ssm(audio_path, target_size=128, threshold=0.8, min_diag_offset = 5):\n",
    "    y, sr = librosa.load(audio_path)\n",
    "\n",
    "    chroma = librosa.feature.chroma_cqt(y=y, sr=sr) # (12, T)\n",
    "    similarity_matrix = cosine_similarity(chroma.T) # (T, T)\n",
    "    T = similarity_matrix.shape[0]\n",
    "\n",
    "    time_idx = np.arange(T)\n",
    "    frame_diff = np.abs(time_idx[:, None] - time_idx[None, :]) # 프레임 간 거리\n",
    "    is_repeat = (similarity_matrix > threshold) & (frame_diff >= min_diag_offset)\n",
    "\n",
    "    resized_mask = resize(is_repeat.astype(float), (target_size, target_size),\n",
    "                          mode='reflect', anti_aliasing=True, preserve_range=True)\n",
    "\n",
    "    return resized_mask\n",
    "\n",
    "def plot_silimilarity_matrix(similarity_matrix, save_path=None):\n",
    "    plt.figure(figsize=(6, 5))\n",
    "    plt.imshow(similarity_matrix, origin='lower', aspect='auto', cmap='magma', interpolation='nearest')\n",
    "    plt.title(\"Mean Self-Similarity Matrix\")\n",
    "    plt.colorbar(label='Repetition Presence Probability')\n",
    "    plt.tight_layout()\n",
    "    \n",
    "    if save_path:\n",
    "        plt.savefig(save_path, dpi=300)\n",
    "        print(f\"Saved visualization to: {save_path}\")\n",
    "    \n",
    "    plt.close()"
   ]
  },
  {
   "cell_type": "code",
   "execution_count": null,
   "id": "49409ac9",
   "metadata": {},
   "outputs": [],
   "source": [
    "n_class = 4\n",
    "\n",
    "for n in range(n_class):\n",
    "    download_dir = f\"../downloads/{n}\"\n",
    "    resized_masks = []\n",
    "    target_size = 128\n",
    "\n",
    "    for fname in tqdm(os.listdir(download_dir)):\n",
    "        if fname.endswith(\".wav\"):\n",
    "            path = os.path.join(download_dir, fname)\n",
    "            resized_matrix = get_resized_ssm(path, target_size)\n",
    "            resized_masks.append(resized_matrix)\n",
    "\n",
    "    # 평균 마스크 시각화\n",
    "    mean_matrix = np.mean(resized_masks, axis=0)\n",
    "    plot_silimilarity_matrix(mean_matrix, f\"../imgs/{n}.png\")"
   ]
  },
  {
   "cell_type": "markdown",
   "id": "8107bea3",
   "metadata": {},
   "source": [
    "# 5. RMS 분산"
   ]
  },
  {
   "cell_type": "code",
   "execution_count": 14,
   "id": "40bddda9",
   "metadata": {},
   "outputs": [],
   "source": [
    "def check_rms_variation(audio_path):\n",
    "    y, sr = librosa.load(audio_path, duration=30)\n",
    "\n",
    "    rms = librosa.feature.rms(y=y).flatten()\n",
    "\n",
    "    rms = rms[~np.isnan(rms) & ~np.isinf(rms)]\n",
    "\n",
    "    if len(rms) == 0:\n",
    "        return 0.0\n",
    "\n",
    "    rms_var = np.var(rms)\n",
    "    return rms_var"
   ]
  },
  {
   "cell_type": "code",
   "execution_count": 15,
   "id": "1e8e692a",
   "metadata": {},
   "outputs": [
    {
     "data": {
      "text/plain": [
       "np.float32(0.008695843)"
      ]
     },
     "execution_count": 15,
     "metadata": {},
     "output_type": "execute_result"
    }
   ],
   "source": [
    "rms_var = check_rms_variation(audio_path1)\n",
    "rms_var"
   ]
  }
 ],
 "metadata": {
  "kernelspec": {
   "display_name": "mir",
   "language": "python",
   "name": "python3"
  },
  "language_info": {
   "codemirror_mode": {
    "name": "ipython",
    "version": 3
   },
   "file_extension": ".py",
   "mimetype": "text/x-python",
   "name": "python",
   "nbconvert_exporter": "python",
   "pygments_lexer": "ipython3",
   "version": "3.9.18"
  }
 },
 "nbformat": 4,
 "nbformat_minor": 5
}
