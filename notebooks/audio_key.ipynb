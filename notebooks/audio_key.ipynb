{
 "cells": [
  {
   "cell_type": "markdown",
   "id": "960739bb",
   "metadata": {},
   "source": [
    "# 0. 준비"
   ]
  },
  {
   "cell_type": "code",
   "execution_count": null,
   "id": "2948c6ec",
   "metadata": {},
   "outputs": [
    {
     "data": {
      "text/plain": [
       "'_summary_\\n* create environment for essentia(to get key signature)\\n* it is hard to use on Colab or Windows, so you can try this on mac\\n'"
      ]
     },
     "execution_count": 30,
     "metadata": {},
     "output_type": "execute_result"
    }
   ],
   "source": [
    "\"\"\"_summary_\n",
    "* create environment for essentia(to get key signature)\n",
    "* it is hard to use on Colab or Windows, so you can try this on mac\n",
    "\"\"\"\n",
    "\n",
    "# conda create -n key python=3.9\n",
    "# conda activate key\n",
    "# brew install fftw libyaml libsamplerate eigen taglib chromaprint ffmpeg\n",
    "# pip install \"numpy<2.0\"\n",
    "# pip install essentia\n",
    "# pip install pandas tqdm"
   ]
  },
  {
   "cell_type": "code",
   "execution_count": 4,
   "id": "2594037a",
   "metadata": {},
   "outputs": [],
   "source": [
    "from pathlib import Path"
   ]
  },
  {
   "cell_type": "code",
   "execution_count": 5,
   "id": "75cb7a59",
   "metadata": {},
   "outputs": [],
   "source": [
    "import essentia\n",
    "import essentia.standard as es"
   ]
  },
  {
   "cell_type": "markdown",
   "id": "bffe48c7",
   "metadata": {},
   "source": [
    "# 1. 조성 분포"
   ]
  },
  {
   "cell_type": "code",
   "execution_count": 7,
   "id": "b2862706",
   "metadata": {},
   "outputs": [],
   "source": [
    "def extract_key_signature(audio_path):\n",
    "    loader = es.MonoLoader(filename=str(audio_path))\n",
    "    audio = loader()\n",
    "    \n",
    "    key_extractor = es.KeyExtractor()\n",
    "    key, scale, strength = key_extractor(audio)\n",
    "    return key, scale, strength"
   ]
  },
  {
   "cell_type": "markdown",
   "id": "bab695ed",
   "metadata": {},
   "source": [
    "---"
   ]
  },
  {
   "cell_type": "code",
   "execution_count": 3,
   "id": "e6345c83",
   "metadata": {},
   "outputs": [
    {
     "data": {
      "text/html": [
       "<div>\n",
       "<style scoped>\n",
       "    .dataframe tbody tr th:only-of-type {\n",
       "        vertical-align: middle;\n",
       "    }\n",
       "\n",
       "    .dataframe tbody tr th {\n",
       "        vertical-align: top;\n",
       "    }\n",
       "\n",
       "    .dataframe thead th {\n",
       "        text-align: right;\n",
       "    }\n",
       "</style>\n",
       "<table border=\"1\" class=\"dataframe\">\n",
       "  <thead>\n",
       "    <tr style=\"text-align: right;\">\n",
       "      <th></th>\n",
       "      <th>video</th>\n",
       "      <th>yt_id</th>\n",
       "      <th>duration</th>\n",
       "      <th>title</th>\n",
       "      <th>singer</th>\n",
       "      <th>audio</th>\n",
       "      <th>lyric</th>\n",
       "      <th>year</th>\n",
       "      <th>match</th>\n",
       "      <th>pn</th>\n",
       "      <th>tempo_transition_complexity</th>\n",
       "      <th>active_bpm_variance</th>\n",
       "      <th>pitch_high</th>\n",
       "      <th>pitch_low</th>\n",
       "      <th>pitch_range</th>\n",
       "      <th>rms_variation</th>\n",
       "      <th>repeat_area_size</th>\n",
       "      <th>repetition_ratio</th>\n",
       "    </tr>\n",
       "  </thead>\n",
       "  <tbody>\n",
       "    <tr>\n",
       "      <th>0</th>\n",
       "      <td>아이유(IU) - Blueming(블루밍) [가사_Lyrics]</td>\n",
       "      <td>yCFMJrneOUs</td>\n",
       "      <td>3:38</td>\n",
       "      <td>Blueming</td>\n",
       "      <td>IU</td>\n",
       "      <td>Q1</td>\n",
       "      <td>Q1</td>\n",
       "      <td>2019</td>\n",
       "      <td>2</td>\n",
       "      <td>0</td>\n",
       "      <td>0.073658</td>\n",
       "      <td>49.098753</td>\n",
       "      <td>618.670048</td>\n",
       "      <td>65.406391</td>\n",
       "      <td>553.263657</td>\n",
       "      <td>0.015928</td>\n",
       "      <td>52239650</td>\n",
       "      <td>0.602505</td>\n",
       "    </tr>\n",
       "    <tr>\n",
       "      <th>1</th>\n",
       "      <td>아이유(IU) - 좋은 날 [가사_Lyrics]</td>\n",
       "      <td>V6WWJNpIJN4</td>\n",
       "      <td>3:56</td>\n",
       "      <td>좋은날</td>\n",
       "      <td>IU</td>\n",
       "      <td>Q1</td>\n",
       "      <td>Q1</td>\n",
       "      <td>2010</td>\n",
       "      <td>2</td>\n",
       "      <td>0</td>\n",
       "      <td>0.194658</td>\n",
       "      <td>801.429437</td>\n",
       "      <td>410.534516</td>\n",
       "      <td>65.406391</td>\n",
       "      <td>345.128125</td>\n",
       "      <td>0.012732</td>\n",
       "      <td>74291112</td>\n",
       "      <td>0.727768</td>\n",
       "    </tr>\n",
       "    <tr>\n",
       "      <th>2</th>\n",
       "      <td>아이유(IU) - 이 지금 [가사_Lyrics]</td>\n",
       "      <td>RUuRcR7ZQUg</td>\n",
       "      <td>2:57</td>\n",
       "      <td>이 지금</td>\n",
       "      <td>IU</td>\n",
       "      <td>Q4</td>\n",
       "      <td>Q1</td>\n",
       "      <td>2017</td>\n",
       "      <td>2</td>\n",
       "      <td>0</td>\n",
       "      <td>0.193476</td>\n",
       "      <td>800.170063</td>\n",
       "      <td>880.000000</td>\n",
       "      <td>65.406391</td>\n",
       "      <td>814.593609</td>\n",
       "      <td>0.005314</td>\n",
       "      <td>26916160</td>\n",
       "      <td>0.470882</td>\n",
       "    </tr>\n",
       "    <tr>\n",
       "      <th>3</th>\n",
       "      <td>다비치 - 안녕이라고 말하지마 [가사_Lyrics]</td>\n",
       "      <td>uw83-MnCpAo</td>\n",
       "      <td>3:51</td>\n",
       "      <td>안녕이라고 말하지마</td>\n",
       "      <td>다비치</td>\n",
       "      <td>Q4</td>\n",
       "      <td>Q4</td>\n",
       "      <td>2011</td>\n",
       "      <td>2</td>\n",
       "      <td>0</td>\n",
       "      <td>0.109879</td>\n",
       "      <td>1051.305489</td>\n",
       "      <td>959.646805</td>\n",
       "      <td>65.406391</td>\n",
       "      <td>894.240413</td>\n",
       "      <td>0.003815</td>\n",
       "      <td>57633998</td>\n",
       "      <td>0.590724</td>\n",
       "    </tr>\n",
       "    <tr>\n",
       "      <th>4</th>\n",
       "      <td>다비치 - 거북이 [가사_Lyrics]</td>\n",
       "      <td>ofBinMrHfHQ</td>\n",
       "      <td>3:44</td>\n",
       "      <td>거북이</td>\n",
       "      <td>다비치</td>\n",
       "      <td>Q1</td>\n",
       "      <td>Q1</td>\n",
       "      <td>2013</td>\n",
       "      <td>2</td>\n",
       "      <td>0</td>\n",
       "      <td>0.178801</td>\n",
       "      <td>455.823726</td>\n",
       "      <td>177.666317</td>\n",
       "      <td>65.406391</td>\n",
       "      <td>112.259925</td>\n",
       "      <td>0.005987</td>\n",
       "      <td>50365320</td>\n",
       "      <td>0.546556</td>\n",
       "    </tr>\n",
       "  </tbody>\n",
       "</table>\n",
       "</div>"
      ],
      "text/plain": [
       "                                 video        yt_id duration       title  \\\n",
       "0  아이유(IU) - Blueming(블루밍) [가사_Lyrics]  yCFMJrneOUs     3:38    Blueming   \n",
       "1           아이유(IU) - 좋은 날 [가사_Lyrics]  V6WWJNpIJN4     3:56         좋은날   \n",
       "2           아이유(IU) - 이 지금 [가사_Lyrics]  RUuRcR7ZQUg     2:57        이 지금   \n",
       "3         다비치 - 안녕이라고 말하지마 [가사_Lyrics]  uw83-MnCpAo     3:51  안녕이라고 말하지마   \n",
       "4                다비치 - 거북이 [가사_Lyrics]  ofBinMrHfHQ     3:44         거북이   \n",
       "\n",
       "  singer audio lyric  year  match  pn  tempo_transition_complexity  \\\n",
       "0     IU    Q1    Q1  2019      2   0                     0.073658   \n",
       "1     IU    Q1    Q1  2010      2   0                     0.194658   \n",
       "2     IU    Q4    Q1  2017      2   0                     0.193476   \n",
       "3    다비치    Q4    Q4  2011      2   0                     0.109879   \n",
       "4    다비치    Q1    Q1  2013      2   0                     0.178801   \n",
       "\n",
       "   active_bpm_variance  pitch_high  pitch_low  pitch_range  rms_variation  \\\n",
       "0            49.098753  618.670048  65.406391   553.263657       0.015928   \n",
       "1           801.429437  410.534516  65.406391   345.128125       0.012732   \n",
       "2           800.170063  880.000000  65.406391   814.593609       0.005314   \n",
       "3          1051.305489  959.646805  65.406391   894.240413       0.003815   \n",
       "4           455.823726  177.666317  65.406391   112.259925       0.005987   \n",
       "\n",
       "   repeat_area_size  repetition_ratio  \n",
       "0          52239650          0.602505  \n",
       "1          74291112          0.727768  \n",
       "2          26916160          0.470882  \n",
       "3          57633998          0.590724  \n",
       "4          50365320          0.546556  "
      ]
     },
     "execution_count": 3,
     "metadata": {},
     "output_type": "execute_result"
    }
   ],
   "source": [
    "import pandas as pd\n",
    "\n",
    "df = pd.read_csv('eda_full.csv', encoding='utf-8-sig')\n",
    "df.head()"
   ]
  },
  {
   "cell_type": "code",
   "execution_count": 9,
   "id": "6b111a56",
   "metadata": {},
   "outputs": [],
   "source": [
    "df['key'] = ''\n",
    "df['scale'] = 0\n",
    "df['strength'] = 0"
   ]
  },
  {
   "cell_type": "code",
   "execution_count": 10,
   "id": "8cf3e944",
   "metadata": {},
   "outputs": [],
   "source": [
    "pos = Path('downloads/2')\n",
    "pos_wav_paths = sorted(pos.glob('*.wav'))\n",
    "neg = Path('downloads/3')\n",
    "neg_wav_paths = sorted(neg.glob('*.wav'))"
   ]
  },
  {
   "cell_type": "code",
   "execution_count": 12,
   "id": "0fa82483",
   "metadata": {},
   "outputs": [
    {
     "name": "stderr",
     "output_type": "stream",
     "text": [
      "/opt/anaconda3/envs/ess/lib/python3.9/site-packages/tqdm/auto.py:21: TqdmWarning: IProgress not found. Please update jupyter and ipywidgets. See https://ipywidgets.readthedocs.io/en/stable/user_install.html\n",
      "  from .autonotebook import tqdm as notebook_tqdm\n",
      "  0%|          | 0/30 [00:00<?, ?it/s]/var/folders/8s/9mw0byfj2yjdqnsnrkq34mkc0000gn/T/ipykernel_1099/1079498059.py:6: FutureWarning: Setting an item of incompatible dtype is deprecated and will raise an error in a future version of pandas. Value 'minor' has dtype incompatible with int64, please explicitly cast to a compatible dtype first.\n",
      "  df.loc[df['video'] == video_name, 'scale'] = scale\n",
      "/var/folders/8s/9mw0byfj2yjdqnsnrkq34mkc0000gn/T/ipykernel_1099/1079498059.py:7: FutureWarning: Setting an item of incompatible dtype is deprecated and will raise an error in a future version of pandas. Value '0.8332850933074951' has dtype incompatible with int64, please explicitly cast to a compatible dtype first.\n",
      "  df.loc[df['video'] == video_name, 'strength'] = strength\n",
      "100%|██████████| 30/30 [00:34<00:00,  1.16s/it]\n",
      "100%|██████████| 31/31 [00:42<00:00,  1.36s/it]\n"
     ]
    }
   ],
   "source": [
    "from tqdm.auto import tqdm\n",
    "for wav_path in tqdm(pos_wav_paths):\n",
    "    video_name = wav_path.stem\n",
    "    key, scale, strength = extract_key_signature(wav_path)\n",
    "    df.loc[df['video'] == video_name, 'key'] = key\n",
    "    df.loc[df['video'] == video_name, 'scale'] = scale\n",
    "    df.loc[df['video'] == video_name, 'strength'] = strength\n",
    "for wav_path in tqdm(neg_wav_paths):\n",
    "    video_name = wav_path.stem\n",
    "    key, scale, strength = extract_key_signature(wav_path)\n",
    "    df.loc[df['video'] == video_name, 'key'] = key\n",
    "    df.loc[df['video'] == video_name, 'scale'] = scale\n",
    "    df.loc[df['video'] == video_name, 'strength'] = strength"
   ]
  },
  {
   "cell_type": "code",
   "execution_count": 14,
   "id": "c195dcaf",
   "metadata": {},
   "outputs": [
    {
     "data": {
      "text/plain": [
       "video                          아이유(IU) - Blueming(블루밍) [가사_Lyrics]\n",
       "yt_id                                                  yCFMJrneOUs\n",
       "duration                                                      3:38\n",
       "title                                                     Blueming\n",
       "singer                                                          IU\n",
       "audio                                                           Q1\n",
       "lyric                                                           Q1\n",
       "year                                                          2019\n",
       "match                                                            2\n",
       "pn                                                               0\n",
       "tempo_transition_complexity                               0.073658\n",
       "active_bpm_variance                                      49.098753\n",
       "pitch_high                                              618.670048\n",
       "pitch_low                                                65.406391\n",
       "pitch_range                                             553.263657\n",
       "rms_variation                                             0.015928\n",
       "repeat_area_size                                          52239650\n",
       "repetition_ratio                                          0.602505\n",
       "key                                                              C\n",
       "scale                                                        major\n",
       "strength                                                  0.937639\n",
       "Name: 0, dtype: object"
      ]
     },
     "execution_count": 14,
     "metadata": {},
     "output_type": "execute_result"
    }
   ],
   "source": [
    "df.iloc[0]"
   ]
  },
  {
   "cell_type": "code",
   "execution_count": 15,
   "id": "0d8f8787",
   "metadata": {},
   "outputs": [],
   "source": [
    "df.to_csv('eda_full.csv', encoding='utf-8-sig', index=False)"
   ]
  }
 ],
 "metadata": {
  "kernelspec": {
   "display_name": "ess",
   "language": "python",
   "name": "python3"
  },
  "language_info": {
   "codemirror_mode": {
    "name": "ipython",
    "version": 3
   },
   "file_extension": ".py",
   "mimetype": "text/x-python",
   "name": "python",
   "nbconvert_exporter": "python",
   "pygments_lexer": "ipython3",
   "version": "3.9.21"
  }
 },
 "nbformat": 4,
 "nbformat_minor": 5
}
