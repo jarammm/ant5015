{
 "cells": [
  {
   "cell_type": "markdown",
   "id": "2b232eb1",
   "metadata": {},
   "source": [
    "# load library"
   ]
  },
  {
   "cell_type": "code",
   "execution_count": 8,
   "id": "781a57d6",
   "metadata": {},
   "outputs": [],
   "source": [
    "import pandas as pd\n",
    "from pathlib import Path\n",
    "import librosa\n",
    "import librosa.display\n",
    "import numpy as np\n",
    "import matplotlib.pyplot as plt\n",
    "from sklearn.metrics.pairwise import cosine_similarity"
   ]
  },
  {
   "cell_type": "markdown",
   "id": "6b056299",
   "metadata": {},
   "source": [
    "# load dataset"
   ]
  },
  {
   "cell_type": "code",
   "execution_count": null,
   "id": "ec3ada0d",
   "metadata": {},
   "outputs": [
    {
     "data": {
      "text/html": [
       "<div>\n",
       "<style scoped>\n",
       "    .dataframe tbody tr th:only-of-type {\n",
       "        vertical-align: middle;\n",
       "    }\n",
       "\n",
       "    .dataframe tbody tr th {\n",
       "        vertical-align: top;\n",
       "    }\n",
       "\n",
       "    .dataframe thead th {\n",
       "        text-align: right;\n",
       "    }\n",
       "</style>\n",
       "<table border=\"1\" class=\"dataframe\">\n",
       "  <thead>\n",
       "    <tr style=\"text-align: right;\">\n",
       "      <th></th>\n",
       "      <th>video</th>\n",
       "      <th>yt_id</th>\n",
       "      <th>duration</th>\n",
       "      <th>title</th>\n",
       "      <th>singer</th>\n",
       "      <th>audio</th>\n",
       "      <th>lyric</th>\n",
       "      <th>year</th>\n",
       "      <th>match</th>\n",
       "      <th>pn</th>\n",
       "    </tr>\n",
       "  </thead>\n",
       "  <tbody>\n",
       "    <tr>\n",
       "      <th>0</th>\n",
       "      <td>아이유(IU) - Blueming(블루밍) [가사/Lyrics]</td>\n",
       "      <td>yCFMJrneOUs</td>\n",
       "      <td>3:38</td>\n",
       "      <td>Blueming</td>\n",
       "      <td>IU</td>\n",
       "      <td>Q1</td>\n",
       "      <td>Q1</td>\n",
       "      <td>2019</td>\n",
       "      <td>2</td>\n",
       "      <td>0</td>\n",
       "    </tr>\n",
       "    <tr>\n",
       "      <th>1</th>\n",
       "      <td>아이유(IU) - 좋은 날 [가사/Lyrics]</td>\n",
       "      <td>V6WWJNpIJN4</td>\n",
       "      <td>3:56</td>\n",
       "      <td>좋은날</td>\n",
       "      <td>IU</td>\n",
       "      <td>Q1</td>\n",
       "      <td>Q1</td>\n",
       "      <td>2010</td>\n",
       "      <td>2</td>\n",
       "      <td>0</td>\n",
       "    </tr>\n",
       "    <tr>\n",
       "      <th>2</th>\n",
       "      <td>아이유(IU) - 이 지금 [가사/Lyrics]</td>\n",
       "      <td>RUuRcR7ZQUg</td>\n",
       "      <td>2:57</td>\n",
       "      <td>이 지금</td>\n",
       "      <td>IU</td>\n",
       "      <td>Q4</td>\n",
       "      <td>Q1</td>\n",
       "      <td>2017</td>\n",
       "      <td>2</td>\n",
       "      <td>0</td>\n",
       "    </tr>\n",
       "    <tr>\n",
       "      <th>3</th>\n",
       "      <td>다비치 - 안녕이라고 말하지마 [가사/Lyrics]</td>\n",
       "      <td>uw83-MnCpAo</td>\n",
       "      <td>3:51</td>\n",
       "      <td>안녕이라고 말하지마</td>\n",
       "      <td>다비치</td>\n",
       "      <td>Q4</td>\n",
       "      <td>Q4</td>\n",
       "      <td>2011</td>\n",
       "      <td>2</td>\n",
       "      <td>0</td>\n",
       "    </tr>\n",
       "    <tr>\n",
       "      <th>4</th>\n",
       "      <td>다비치 - 거북이 [가사/Lyrics]</td>\n",
       "      <td>ofBinMrHfHQ</td>\n",
       "      <td>3:44</td>\n",
       "      <td>거북이</td>\n",
       "      <td>다비치</td>\n",
       "      <td>Q1</td>\n",
       "      <td>Q1</td>\n",
       "      <td>2013</td>\n",
       "      <td>2</td>\n",
       "      <td>0</td>\n",
       "    </tr>\n",
       "  </tbody>\n",
       "</table>\n",
       "</div>"
      ],
      "text/plain": [
       "                                 video        yt_id duration       title  \\\n",
       "0  아이유(IU) - Blueming(블루밍) [가사/Lyrics]  yCFMJrneOUs     3:38    Blueming   \n",
       "1           아이유(IU) - 좋은 날 [가사/Lyrics]  V6WWJNpIJN4     3:56         좋은날   \n",
       "2           아이유(IU) - 이 지금 [가사/Lyrics]  RUuRcR7ZQUg     2:57        이 지금   \n",
       "3         다비치 - 안녕이라고 말하지마 [가사/Lyrics]  uw83-MnCpAo     3:51  안녕이라고 말하지마   \n",
       "4                다비치 - 거북이 [가사/Lyrics]  ofBinMrHfHQ     3:44         거북이   \n",
       "\n",
       "  singer audio lyric  year  match  pn  \n",
       "0     IU    Q1    Q1  2019      2   0  \n",
       "1     IU    Q1    Q1  2010      2   0  \n",
       "2     IU    Q4    Q1  2017      2   0  \n",
       "3    다비치    Q4    Q4  2011      2   0  \n",
       "4    다비치    Q1    Q1  2013      2   0  "
      ]
     },
     "execution_count": 3,
     "metadata": {},
     "output_type": "execute_result"
    }
   ],
   "source": [
    "df = pd.read_csv('data.csv', encoding='utf-8-sig')\n",
    "df.head()"
   ]
  },
  {
   "cell_type": "markdown",
   "id": "07c83bd3",
   "metadata": {},
   "source": [
    "---"
   ]
  },
  {
   "cell_type": "markdown",
   "id": "26059e2c",
   "metadata": {},
   "source": [
    "# load wav path"
   ]
  },
  {
   "cell_type": "code",
   "execution_count": 9,
   "id": "7e3a0c4c",
   "metadata": {},
   "outputs": [],
   "source": [
    "pos = Path('downloads/2')\n",
    "pos_wav_paths = sorted(pos.glob('*.wav'))\n",
    "neg = Path('downloads/3')\n",
    "neg_wav_paths = sorted(neg.glob('*.wav'))"
   ]
  },
  {
   "cell_type": "code",
   "execution_count": 3,
   "id": "e3cc752b",
   "metadata": {},
   "outputs": [
    {
     "data": {
      "text/plain": [
       "(30, 31)"
      ]
     },
     "execution_count": 3,
     "metadata": {},
     "output_type": "execute_result"
    }
   ],
   "source": [
    "len(pos_wav_paths), len(neg_wav_paths)"
   ]
  },
  {
   "cell_type": "markdown",
   "id": "949d392e",
   "metadata": {},
   "source": [
    "# create columns"
   ]
  },
  {
   "cell_type": "code",
   "execution_count": 5,
   "id": "f15c8303",
   "metadata": {},
   "outputs": [],
   "source": [
    "df['tempo_transition_complexity'] = 0\n",
    "df['active_bpm_variance'] = 0\n",
    "df['pitch_high'] = 0\n",
    "df['pitch_low'] = 0\n",
    "df['pitch_range'] = 0\n",
    "df['rms_variation'] = 0\n",
    "df['repeat_area_size'] = 0\n",
    "df['repetition_ratio'] = 0"
   ]
  },
  {
   "cell_type": "markdown",
   "id": "851f636b",
   "metadata": {},
   "source": [
    "# tempo transition complexity & active bpm number variance"
   ]
  },
  {
   "cell_type": "code",
   "execution_count": 12,
   "id": "23d339c7",
   "metadata": {},
   "outputs": [],
   "source": [
    "def get_onset_tempogram_tempo(audio_path):\n",
    "  # Load audio\n",
    "  # y, sr = librosa.load(audio_path, duration=30)\n",
    "  y, sr = librosa.load(audio_path)\n",
    "  hop_length = 512\n",
    "\n",
    "  # Onset strength envelope\n",
    "  oenv = librosa.onset.onset_strength(y=y, sr=sr, hop_length=hop_length)\n",
    "\n",
    "  # Tempogram (local autocorrelation)\n",
    "  tempogram = librosa.feature.tempogram(onset_envelope=oenv, sr=sr, hop_length=hop_length)\n",
    "\n",
    "  return tempogram\n",
    "\n",
    "def get_dominant_tempo(tempogram, threshold=0.5):\n",
    "\n",
    "  active_bpm_per_frame = np.sum(tempogram >= threshold, axis=0)\n",
    "  active_bpm_variance = np.var(active_bpm_per_frame)\n",
    "\n",
    "  prev_indices = None\n",
    "  change_counts = 0\n",
    "  for t in range(tempogram.shape[1]):\n",
    "      indices = set(np.where(tempogram[:, t] >= threshold)[0])\n",
    "      if prev_indices is not None:\n",
    "          change = len(indices.symmetric_difference(prev_indices))\n",
    "          change_counts += change\n",
    "      prev_indices = indices\n",
    "  tempo_transition_complexity = change_counts / tempogram.shape[1]\n",
    "\n",
    "  return tempo_transition_complexity, active_bpm_variance"
   ]
  },
  {
   "cell_type": "code",
   "execution_count": 7,
   "id": "10053cac",
   "metadata": {},
   "outputs": [
    {
     "name": "stderr",
     "output_type": "stream",
     "text": [
      "/opt/anaconda3/envs/mir/lib/python3.9/site-packages/tqdm/auto.py:21: TqdmWarning: IProgress not found. Please update jupyter and ipywidgets. See https://ipywidgets.readthedocs.io/en/stable/user_install.html\n",
      "  from .autonotebook import tqdm as notebook_tqdm\n",
      "  0%|          | 0/30 [00:00<?, ?it/s]"
     ]
    },
    {
     "name": "stderr",
     "output_type": "stream",
     "text": [
      "/var/folders/8s/9mw0byfj2yjdqnsnrkq34mkc0000gn/T/ipykernel_1315/1675278397.py:6: FutureWarning: Setting an item of incompatible dtype is deprecated and will raise an error in a future version of pandas. Value '0.101242041540549' has dtype incompatible with int64, please explicitly cast to a compatible dtype first.\n",
      "  df.loc[df['video'] == video_name, 'tempo_transition_complexity'] = tempo_transition_complexity\n",
      "/var/folders/8s/9mw0byfj2yjdqnsnrkq34mkc0000gn/T/ipykernel_1315/1675278397.py:7: FutureWarning: Setting an item of incompatible dtype is deprecated and will raise an error in a future version of pandas. Value '86.40402966762194' has dtype incompatible with int64, please explicitly cast to a compatible dtype first.\n",
      "  df.loc[df['video'] == video_name, 'active_bpm_variance'] = active_bpm_variance\n",
      "100%|██████████| 30/30 [00:15<00:00,  1.96it/s]\n",
      "100%|██████████| 31/31 [00:16<00:00,  1.89it/s]\n"
     ]
    }
   ],
   "source": [
    "from tqdm.auto import tqdm\n",
    "for wav_path in tqdm(pos_wav_paths):\n",
    "    video_name = wav_path.stem\n",
    "    tempogram = get_onset_tempogram_tempo(wav_path)\n",
    "    tempo_transition_complexity, active_bpm_variance = get_dominant_tempo(tempogram)\n",
    "    df.loc[df['video'] == video_name, 'tempo_transition_complexity'] = tempo_transition_complexity\n",
    "    df.loc[df['video'] == video_name, 'active_bpm_variance'] = active_bpm_variance\n",
    "    \n",
    "for wav_path in tqdm(neg_wav_paths):\n",
    "    video_name = wav_path.stem\n",
    "    tempogram = get_onset_tempogram_tempo(wav_path)\n",
    "    tempo_transition_complexity, active_bpm_variance = get_dominant_tempo(tempogram)\n",
    "    df.loc[df['video'] == video_name, 'tempo_transition_complexity'] = tempo_transition_complexity\n",
    "    df.loc[df['video'] == video_name, 'active_bpm_variance'] = active_bpm_variance\n",
    "    "
   ]
  },
  {
   "cell_type": "markdown",
   "id": "43dc09b0",
   "metadata": {},
   "source": [
    "# tempo variance"
   ]
  },
  {
   "cell_type": "code",
   "execution_count": null,
   "id": "0480e4ba",
   "metadata": {},
   "outputs": [],
   "source": [
    "def check_tempo_variance(audio_path):\n",
    "    y, sr = librosa.load(audio_path)\n",
    "    hop_length = 512\n",
    "\n",
    "    onset_strength_seq = librosa.onset.onset_strength(y=y, sr=sr, hop_length=hop_length) # 각 타임 프레임 시작점의 강도\n",
    "    tempogram = librosa.feature.tempogram(onset_envelope=onset_strength_seq, sr=sr, hop_length=hop_length) # (num_bins, num_frames)\n",
    "\n",
    "    tempos = librosa.tempo_frequencies(tempogram.shape[0], sr=sr, hop_length=hop_length) # tempo bin index → bpm\n",
    "    dominant_indices = np.argmax(tempogram[1:], axis=0) + 1\n",
    "    dominant_tempos = tempos[dominant_indices]\n",
    "\n",
    "    dominant_tempos = dominant_tempos[(~np.isnan(dominant_tempos)) & (~np.isinf(dominant_tempos))]\n",
    "    dominant_tempos = np.log2(dominant_tempos + 1e-6)\n",
    "\n",
    "    if len(dominant_tempos) == 0:\n",
    "        return 0.0\n",
    "\n",
    "    tempo_var = np.var(dominant_tempos)\n",
    "\n",
    "    return tempo_var"
   ]
  },
  {
   "cell_type": "code",
   "execution_count": null,
   "id": "0734376b",
   "metadata": {},
   "outputs": [
    {
     "name": "stderr",
     "output_type": "stream",
     "text": [
      "100%|██████████| 30/30 [00:14<00:00,  2.12it/s]\n",
      "100%|██████████| 31/31 [00:15<00:00,  2.03it/s]\n"
     ]
    }
   ],
   "source": [
    "for wav_path in tqdm(pos_wav_paths):\n",
    "    video_name = wav_path.stem\n",
    "    tempo_var = check_tempo_variance(wav_path)\n",
    "    df.loc[df['video'] == video_name, 'tempo_variance'] = tempo_var\n",
    "\n",
    "for wav_path in tqdm(neg_wav_paths):\n",
    "    video_name = wav_path.stem\n",
    "    tempo_var = check_tempo_variance(wav_path)\n",
    "    df.loc[df['video'] == video_name, 'tempo_variance'] = tempo_var"
   ]
  },
  {
   "cell_type": "markdown",
   "id": "dc3323cd",
   "metadata": {},
   "source": [
    "# pitch range"
   ]
  },
  {
   "cell_type": "code",
   "execution_count": 15,
   "id": "49941406",
   "metadata": {},
   "outputs": [],
   "source": [
    "def get_pitch_range(audio_path):\n",
    "  # y, sr = librosa.load(audio_path, duration=30)\n",
    "  y, sr = librosa.load(audio_path)\n",
    "\n",
    "  f0, _, _ = librosa.pyin(\n",
    "      y,\n",
    "      fmin=librosa.note_to_hz('C2'),\n",
    "      fmax=librosa.note_to_hz('C7'),\n",
    "      sr=sr\n",
    "  )\n",
    "\n",
    "  # NaN 제거\n",
    "  f0 = f0[~np.isnan(f0)]\n",
    "\n",
    "  # IQR 기반 이상치 제거\n",
    "  q1 = np.percentile(f0, 25)\n",
    "  q3 = np.percentile(f0, 75)\n",
    "  iqr = q3 - q1\n",
    "  lower_bound = q1 - 1.5 * iqr\n",
    "  upper_bound = q3 + 1.5 * iqr\n",
    "  f0_filtered = f0[(f0 >= lower_bound) & (f0 <= upper_bound)]\n",
    "  pitch_range = np.max(f0_filtered) - np.min(f0_filtered)\n",
    "\n",
    "  return np.max(f0_filtered), np.min(f0_filtered), pitch_range"
   ]
  },
  {
   "cell_type": "code",
   "execution_count": 16,
   "id": "4b5c7fe8",
   "metadata": {},
   "outputs": [
    {
     "name": "stderr",
     "output_type": "stream",
     "text": [
      "  0%|          | 0/31 [00:00<?, ?it/s]/var/folders/8s/9mw0byfj2yjdqnsnrkq34mkc0000gn/T/ipykernel_1315/3072824108.py:4: FutureWarning: Setting an item of incompatible dtype is deprecated and will raise an error in a future version of pandas. Value '425.01198472693204' has dtype incompatible with int64, please explicitly cast to a compatible dtype first.\n",
      "  df.loc[df['video'] == video_name, 'pitch_high'] = pitch_high\n",
      "/var/folders/8s/9mw0byfj2yjdqnsnrkq34mkc0000gn/T/ipykernel_1315/3072824108.py:5: FutureWarning: Setting an item of incompatible dtype is deprecated and will raise an error in a future version of pandas. Value '65.40639132514966' has dtype incompatible with int64, please explicitly cast to a compatible dtype first.\n",
      "  df.loc[df['video'] == video_name, 'pitch_low'] = pitch_low\n",
      "/var/folders/8s/9mw0byfj2yjdqnsnrkq34mkc0000gn/T/ipykernel_1315/3072824108.py:6: FutureWarning: Setting an item of incompatible dtype is deprecated and will raise an error in a future version of pandas. Value '359.60559340178236' has dtype incompatible with int64, please explicitly cast to a compatible dtype first.\n",
      "  df.loc[df['video'] == video_name, 'pitch_range'] = pitch_range\n",
      "100%|██████████| 31/31 [22:25<00:00, 43.40s/it]\n",
      "100%|██████████| 30/30 [20:51<00:00, 41.71s/it]\n"
     ]
    }
   ],
   "source": [
    "for wav_path in tqdm(neg_wav_paths):\n",
    "    video_name = wav_path.stem\n",
    "    pitch_high, pitch_low, pitch_range = get_pitch_range(wav_path)\n",
    "    df.loc[df['video'] == video_name, 'pitch_high'] = pitch_high\n",
    "    df.loc[df['video'] == video_name, 'pitch_low'] = pitch_low\n",
    "    df.loc[df['video'] == video_name, 'pitch_range'] = pitch_range\n",
    "\n",
    "for wav_path in tqdm(pos_wav_paths):\n",
    "    video_name = wav_path.stem\n",
    "    pitch_high, pitch_low, pitch_range = get_pitch_range(wav_path)\n",
    "    df.loc[df['video'] == video_name, 'pitch_high'] = pitch_high\n",
    "    df.loc[df['video'] == video_name, 'pitch_low'] = pitch_low\n",
    "    df.loc[df['video'] == video_name, 'pitch_range'] = pitch_range"
   ]
  },
  {
   "cell_type": "markdown",
   "id": "1eef4585",
   "metadata": {},
   "source": [
    "# repetition_ratio"
   ]
  },
  {
   "cell_type": "code",
   "execution_count": null,
   "id": "30ddca65",
   "metadata": {},
   "outputs": [],
   "source": [
    "def check_repetition_ratio(audio_path, threshold=0.8, min_separation_sec=1.0, hop_length=512):\n",
    "    y, sr = librosa.load(audio_path)\n",
    "    \n",
    "    chroma = librosa.feature.chroma_cqt(y=y, sr=sr, hop_length=hop_length)  # shape: (12, T)\n",
    "    similarity_matrix = cosine_similarity(chroma.T)  # shape: (T, T)\n",
    "    T = similarity_matrix.shape[0]\n",
    "\n",
    "    # Minimum diagonal offset (exclude self or very nearby frames)\n",
    "    min_diag_offset = int(min_separation_sec * sr / hop_length)\n",
    "\n",
    "    time_idx = np.arange(T)\n",
    "    frame_diff = np.abs(time_idx[:, None] - time_idx[None, :])\n",
    "\n",
    "    # Valid repeat: high similarity + not too close in time\n",
    "    is_valid_repeat = (similarity_matrix > threshold) & (frame_diff >= min_diag_offset)\n",
    "\n",
    "    total_possible = np.sum(frame_diff >= min_diag_offset)\n",
    "    repeated_area = np.sum(is_valid_repeat)\n",
    "    repetition_ratio_value = repeated_area / total_possible if total_possible > 0 else 0\n",
    "\n",
    "    return repeated_area, repetition_ratio_value"
   ]
  },
  {
   "cell_type": "code",
   "execution_count": 11,
   "id": "6be1cc04",
   "metadata": {},
   "outputs": [
    {
     "name": "stderr",
     "output_type": "stream",
     "text": [
      "  0%|          | 0/30 [00:00<?, ?it/s]/var/folders/8s/9mw0byfj2yjdqnsnrkq34mkc0000gn/T/ipykernel_1315/3115970053.py:5: FutureWarning: Setting an item of incompatible dtype is deprecated and will raise an error in a future version of pandas. Value '0.6490615794500998' has dtype incompatible with int64, please explicitly cast to a compatible dtype first.\n",
      "  df.loc[df['video'] == video_name, 'repetition_ratio'] = repetition_ratio\n",
      "100%|██████████| 30/30 [00:43<00:00,  1.46s/it]\n",
      "100%|██████████| 31/31 [00:48<00:00,  1.57s/it]\n"
     ]
    }
   ],
   "source": [
    "for wav_path in tqdm(pos_wav_paths):\n",
    "    video_name = wav_path.stem\n",
    "    repeated_area, repetition_ratio = check_repetition_ratio(wav_path)\n",
    "    df.loc[df['video'] == video_name, 'repeat_area_size'] = repeated_area\n",
    "    df.loc[df['video'] == video_name, 'repetition_ratio'] = repetition_ratio\n",
    "\n",
    "for wav_path in tqdm(neg_wav_paths):\n",
    "    video_name = wav_path.stem\n",
    "    repeated_area, repetition_ratio = check_repetition_ratio(wav_path)\n",
    "    df.loc[df['video'] == video_name, 'repeat_area_size'] = repeated_area\n",
    "    df.loc[df['video'] == video_name, 'repetition_ratio'] = repetition_ratio"
   ]
  },
  {
   "cell_type": "markdown",
   "id": "24a65f4a",
   "metadata": {},
   "source": [
    "# mean self-similarity matrix"
   ]
  },
  {
   "cell_type": "code",
   "execution_count": null,
   "id": "6b39d139",
   "metadata": {},
   "outputs": [],
   "source": [
    "from skimage.transform import resize\n",
    "import os\n",
    "import numpy as np\n",
    "import librosa\n",
    "from sklearn.metrics.pairwise import cosine_similarity\n",
    "import matplotlib.pyplot as plt\n",
    "from tqdm.auto import tqdm\n",
    "\n",
    "def check_repetition_ratio(audio_path, target_size=128):\n",
    "    y, sr = librosa.load(audio_path)\n",
    "\n",
    "    chroma = librosa.feature.chroma_cqt(y=y, sr=sr) # (12, T)\n",
    "    similarity_matrix = cosine_similarity(chroma.T) # 각 타임 프레임 간 유사도 계산 (T, T)\n",
    "\n",
    "    T = similarity_matrix.shape[0]\n",
    "\n",
    "    repeated_area = np.sum(similarity_matrix)\n",
    "    repetition_ratio_value = repeated_area / (T * T)\n",
    "\n",
    "    resized_mask = resize(similarity_matrix.astype(float), (target_size, target_size),\n",
    "                          mode='reflect', anti_aliasing=True, preserve_range=True)\n",
    "    repetition_ratio_value = np.mean(resized_mask > 0.5)\n",
    "\n",
    "    return repetition_ratio_value, resized_mask, similarity_matrix\n",
    "\n",
    "def plot_silimilarity_matrix(similarity_matrix, save_path=None):\n",
    "    plt.figure(figsize=(6, 5))\n",
    "    plt.imshow(similarity_matrix, origin='lower', aspect='auto', cmap='magma', interpolation='nearest')\n",
    "    plt.title(\"Mean Self-Similarity Matrix\")\n",
    "    plt.colorbar(label='Repetition Presence Probability')\n",
    "    plt.tight_layout()\n",
    "    \n",
    "    if save_path:\n",
    "        plt.savefig(save_path, dpi=300)\n",
    "        print(f\"Saved visualization to: {save_path}\")\n",
    "    \n",
    "    plt.close()\n",
    "\n",
    "\n",
    "download_dir = \"../downloads/1\"\n",
    "results = []\n",
    "resized_masks = []\n",
    "\n",
    "count = 0\n",
    "max_files = 10\n",
    "target_size = 128\n",
    "\n",
    "for fname in tqdm(os.listdir(download_dir)):\n",
    "    if fname.endswith(\".wav\"):\n",
    "        path = os.path.join(download_dir, fname)\n",
    "        rep_ratio, mask, sim_matrix = check_repetition_ratio(path, target_size)\n",
    "        resized_masks.append(mask)\n",
    "\n",
    "# 평균 마스크 시각화\n",
    "mean_matrix = np.mean(resized_masks, axis=0)\n",
    "plot_silimilarity_matrix(mean_matrix, '../imgs/1.png')"
   ]
  },
  {
   "cell_type": "code",
   "execution_count": null,
   "id": "e21b714a",
   "metadata": {},
   "outputs": [],
   "source": [
    "download_dir = \"../downloads/2\"\n",
    "results = []\n",
    "resized_masks = []\n",
    "\n",
    "count = 0\n",
    "max_files = 10\n",
    "target_size = 128\n",
    "\n",
    "for fname in tqdm(os.listdir(download_dir)):\n",
    "    if fname.endswith(\".wav\"):\n",
    "        path = os.path.join(download_dir, fname)\n",
    "        rep_ratio, mask, sim_matrix = check_repetition_ratio(path, target_size)\n",
    "        resized_masks.append(mask)\n",
    "\n",
    "# 평균 마스크 시각화\n",
    "mean_matrix = np.mean(resized_masks, axis=0)\n",
    "plot_silimilarity_matrix(mean_matrix, '../imgs/2.png')"
   ]
  },
  {
   "cell_type": "code",
   "execution_count": null,
   "id": "475c296d",
   "metadata": {},
   "outputs": [],
   "source": [
    "download_dir = \"../downloads/3\"\n",
    "results = []\n",
    "resized_masks = []\n",
    "\n",
    "count = 0\n",
    "max_files = 10\n",
    "target_size = 128\n",
    "\n",
    "for fname in tqdm(os.listdir(download_dir)):\n",
    "    if fname.endswith(\".wav\"):\n",
    "        path = os.path.join(download_dir, fname)\n",
    "        rep_ratio, mask, sim_matrix = check_repetition_ratio(path, target_size)\n",
    "        resized_masks.append(mask)\n",
    "\n",
    "# 평균 마스크 시각화\n",
    "mean_matrix = np.mean(resized_masks, axis=0)\n",
    "plot_silimilarity_matrix(mean_matrix, '../imgs/3.png')"
   ]
  },
  {
   "cell_type": "code",
   "execution_count": null,
   "id": "ae440205",
   "metadata": {},
   "outputs": [],
   "source": [
    "download_dir = \"../downloads/0\"\n",
    "results = []\n",
    "resized_masks = []\n",
    "\n",
    "count = 0\n",
    "max_files = 10\n",
    "target_size = 128\n",
    "\n",
    "for fname in tqdm(os.listdir(download_dir)):\n",
    "    if fname.endswith(\".wav\"):\n",
    "        path = os.path.join(download_dir, fname)\n",
    "        rep_ratio, mask, sim_matrix = check_repetition_ratio(path, target_size)\n",
    "        resized_masks.append(mask)\n",
    "\n",
    "# 평균 마스크 시각화\n",
    "mean_matrix = np.mean(resized_masks, axis=0)\n",
    "plot_silimilarity_matrix(mean_matrix, '../imgs/0.png')"
   ]
  },
  {
   "cell_type": "markdown",
   "id": "1080a583",
   "metadata": {},
   "source": [
    "# rms variation"
   ]
  },
  {
   "cell_type": "code",
   "execution_count": 8,
   "id": "482b4087",
   "metadata": {},
   "outputs": [],
   "source": [
    "def check_rms_variation(audio_path):\n",
    "    # y, sr = librosa.load(audio_path, duration=30)\n",
    "    y, sr = librosa.load(audio_path)\n",
    "\n",
    "    rms = librosa.feature.rms(y=y).flatten()\n",
    "\n",
    "    rms = rms[~np.isnan(rms) & ~np.isinf(rms)]\n",
    "\n",
    "    if len(rms) == 0:\n",
    "        return 0.0\n",
    "\n",
    "    rms_var = np.var(rms)\n",
    "    return rms_var"
   ]
  },
  {
   "cell_type": "code",
   "execution_count": 9,
   "id": "25765347",
   "metadata": {},
   "outputs": [
    {
     "name": "stderr",
     "output_type": "stream",
     "text": [
      "  0%|          | 0/31 [00:00<?, ?it/s]/var/folders/8s/9mw0byfj2yjdqnsnrkq34mkc0000gn/T/ipykernel_1315/3128366921.py:4: FutureWarning: Setting an item of incompatible dtype is deprecated and will raise an error in a future version of pandas. Value '0.007276649121195078' has dtype incompatible with int64, please explicitly cast to a compatible dtype first.\n",
      "  df.loc[df['video'] == video_name, 'rms_variation'] = rms_variation\n",
      "100%|██████████| 31/31 [00:10<00:00,  3.06it/s]\n",
      "100%|██████████| 30/30 [00:09<00:00,  3.24it/s]\n"
     ]
    }
   ],
   "source": [
    "for wav_path in tqdm(neg_wav_paths):\n",
    "    video_name = wav_path.stem\n",
    "    rms_variation = check_rms_variation(wav_path)\n",
    "    df.loc[df['video'] == video_name, 'rms_variation'] = rms_variation\n",
    "\n",
    "for wav_path in tqdm(pos_wav_paths):\n",
    "    video_name = wav_path.stem\n",
    "    rms_variation = check_rms_variation(wav_path)\n",
    "    df.loc[df['video'] == video_name, 'rms_variation'] = rms_variation"
   ]
  },
  {
   "cell_type": "code",
   "execution_count": null,
   "id": "89dbc3dc",
   "metadata": {},
   "outputs": [],
   "source": []
  }
 ],
 "metadata": {
  "kernelspec": {
   "display_name": "mir",
   "language": "python",
   "name": "python3"
  },
  "language_info": {
   "codemirror_mode": {
    "name": "ipython",
    "version": 3
   },
   "file_extension": ".py",
   "mimetype": "text/x-python",
   "name": "python",
   "nbconvert_exporter": "python",
   "pygments_lexer": "ipython3",
   "version": "3.9.18"
  }
 },
 "nbformat": 4,
 "nbformat_minor": 5
}
