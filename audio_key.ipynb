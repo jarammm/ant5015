{
 "cells": [
  {
   "cell_type": "markdown",
   "id": "960739bb",
   "metadata": {},
   "source": [
    "# 0. 준비"
   ]
  },
  {
   "cell_type": "code",
   "execution_count": 30,
   "id": "2948c6ec",
   "metadata": {},
   "outputs": [
    {
     "data": {
      "text/plain": [
       "'_summary_\\n* create environment for essentia(to get key signature)\\n* it is hard to use on Colab or Windows, so you can try this on mac\\n'"
      ]
     },
     "execution_count": 30,
     "metadata": {},
     "output_type": "execute_result"
    }
   ],
   "source": [
    "\"\"\"_summary_\n",
    "* create environment for essentia(to get key signature)\n",
    "* it is hard to use on Colab or Windows, so you can try this on mac\n",
    "\"\"\"\n",
    "\n",
    "# conda create -n key python=3.9\n",
    "# conda activate key\n",
    "# brew install fftw libyaml libsamplerate eigen taglib chromaprint ffmpeg\n",
    "# pip install \"numpy<2.0\"\n",
    "# pip install essentia"
   ]
  },
  {
   "cell_type": "code",
   "execution_count": 31,
   "id": "2594037a",
   "metadata": {},
   "outputs": [],
   "source": [
    "from pathlib import Path"
   ]
  },
  {
   "cell_type": "code",
   "execution_count": 32,
   "id": "75cb7a59",
   "metadata": {},
   "outputs": [],
   "source": [
    "import essentia\n",
    "import essentia.standard as es"
   ]
  },
  {
   "cell_type": "code",
   "execution_count": 33,
   "id": "fd62dd50",
   "metadata": {},
   "outputs": [
    {
     "name": "stdout",
     "output_type": "stream",
     "text": [
      "wav_folder/1.wav\n",
      "wav_folder/2.wav\n",
      "wav_folder/3.wav\n"
     ]
    }
   ],
   "source": [
    "folder = Path('wav_folder')\n",
    "wav_paths = sorted(folder.glob('*.wav'))\n",
    "audio_path1, audio_path2, audio_path3 = wav_paths[:3]\n",
    "\n",
    "print(audio_path1)  # wav_folder/1.wav\n",
    "print(audio_path2)  # wav_folder/2.wav\n",
    "print(audio_path3)  # wav_folder/3.wav\n"
   ]
  },
  {
   "cell_type": "markdown",
   "id": "bffe48c7",
   "metadata": {},
   "source": [
    "# 1. 조성 분포"
   ]
  },
  {
   "cell_type": "code",
   "execution_count": 34,
   "id": "b2862706",
   "metadata": {},
   "outputs": [],
   "source": [
    "def extract_key_signature(audio_path):\n",
    "    loader = es.MonoLoader(filename=str(audio_path))\n",
    "    audio = loader()\n",
    "    \n",
    "    key_extractor = es.KeyExtractor()\n",
    "    key, scale, strength = key_extractor(audio)\n",
    "    return key, scale, strength"
   ]
  },
  {
   "cell_type": "code",
   "execution_count": 35,
   "id": "1dcf482f",
   "metadata": {},
   "outputs": [
    {
     "name": "stdout",
     "output_type": "stream",
     "text": [
      "('Bb', 'major', 0.9468183517456055)\n",
      "('Ab', 'major', 0.7332856059074402)\n",
      "('A', 'major', 0.9603495001792908)\n"
     ]
    }
   ],
   "source": [
    "print(extract_key_signature(audio_path1)) # 긍정 불일치\n",
    "print(extract_key_signature(audio_path2)) # 부정\n",
    "print(extract_key_signature(audio_path3)) # 긍정"
   ]
  }
 ],
 "metadata": {
  "kernelspec": {
   "display_name": "ess",
   "language": "python",
   "name": "python3"
  },
  "language_info": {
   "codemirror_mode": {
    "name": "ipython",
    "version": 3
   },
   "file_extension": ".py",
   "mimetype": "text/x-python",
   "name": "python",
   "nbconvert_exporter": "python",
   "pygments_lexer": "ipython3",
   "version": "3.9.21"
  }
 },
 "nbformat": 4,
 "nbformat_minor": 5
}
